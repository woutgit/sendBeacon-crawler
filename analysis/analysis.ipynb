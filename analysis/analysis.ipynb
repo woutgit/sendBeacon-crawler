{
 "cells": [
  {
   "cell_type": "markdown",
   "metadata": {},
   "source": [
    "Load all files into a dictionary."
   ]
  },
  {
   "cell_type": "code",
   "execution_count": 9,
   "metadata": {},
   "outputs": [
    {
     "name": "stdout",
     "output_type": "stream",
     "text": [
      "8039 files loaded from optIn\n",
      "8009 files loaded from optOut\n"
     ]
    }
   ],
   "source": [
    "import os\n",
    "import json\n",
    "from urllib.parse import urlsplit\n",
    "\n",
    "#dir_optOut = \"../data/000/\"\n",
    "#dir_optIn = \"../data/001/\"\n",
    "dir_optOut = \"../data/optOut/\"\n",
    "dir_optIn = \"../data/optIn/\"\n",
    "\n",
    "def load_dir(dir):\n",
    "    data = {}\n",
    "    for file_name in os.listdir(dir):\n",
    "        if file_name.endswith(\".json\"):\n",
    "            file = open(os.path.join(dir, file_name))\n",
    "            file_data = json.load(file)\n",
    "            file.close()\n",
    "            if \"data\" in file_data:\n",
    "                url = urlsplit(file_data[\"initialUrl\"]).netloc\n",
    "                data.update({url: file_data})\n",
    "    return data\n",
    "\n",
    "data_optOut = load_dir(dir_optOut)\n",
    "data_optIn = load_dir(dir_optIn)\n",
    "\n",
    "print(str(len(data_optIn)) + \" files loaded from optIn\")\n",
    "print(str(len(data_optOut)) + \" files loaded from optOut\")"
   ]
  },
  {
   "cell_type": "markdown",
   "metadata": {},
   "source": [
    "Filter out files where CMPs did not succeed."
   ]
  },
  {
   "cell_type": "code",
   "execution_count": 10,
   "metadata": {},
   "outputs": [
    {
     "name": "stdout",
     "output_type": "stream",
     "text": [
      "7304 files remained after filtering in optIn\n",
      "7140 files remained after filtering in optOut\n"
     ]
    }
   ],
   "source": [
    "def filter_cmps(data):\n",
    "    t = 0\n",
    "    websites = tuple(data.keys())\n",
    "    for website in websites:\n",
    "        if \"cmps\" in data[website][\"data\"]:\n",
    "            t += 1\n",
    "            for cmp in data[website][\"data\"][\"cmps\"]:\n",
    "                if not cmp[\"succeeded\"]:\n",
    "                    data.pop(website)\n",
    "                    break\n",
    "\n",
    "filter_cmps(data_optIn)\n",
    "filter_cmps(data_optOut)\n",
    "\n",
    "print(str(len(data_optIn)) + \" files remained after filtering in optIn\")\n",
    "print(str(len(data_optOut)) + \" files remained after filtering in optOut\")"
   ]
  },
  {
   "cell_type": "markdown",
   "metadata": {},
   "source": [
    "Make sure both dictionaries have the same websites."
   ]
  },
  {
   "cell_type": "code",
   "execution_count": 11,
   "metadata": {},
   "outputs": [
    {
     "name": "stdout",
     "output_type": "stream",
     "text": [
      "6636 files remained after filtering in optIn\n",
      "6636 files remained after filtering in optOut\n"
     ]
    }
   ],
   "source": [
    "optIn_keys = tuple(data_optIn.keys())\n",
    "optOut_keys = tuple(data_optOut.keys())\n",
    "\n",
    "def match_dictionaries(data, keys1, keys2):\n",
    "    websites = tuple(data.keys())\n",
    "    for website in websites:\n",
    "        if (not website in keys1) or (not website in keys2):\n",
    "            data.pop(website)\n",
    "\n",
    "match_dictionaries(data_optIn, optIn_keys, optOut_keys)\n",
    "match_dictionaries(data_optOut, optIn_keys, optOut_keys)\n",
    "\n",
    "print(str(len(data_optIn)) + \" files remained after filtering in optIn\")\n",
    "print(str(len(data_optOut)) + \" files remained after filtering in optOut\")"
   ]
  },
  {
   "cell_type": "markdown",
   "metadata": {},
   "source": [
    "Show some info about sendBeacon method for each website.\n",
    "Output format contains:\n",
    "  - website\n",
    "  - #times sendBeacon called\n",
    "  - bits of data send"
   ]
  },
  {
   "cell_type": "code",
   "execution_count": 12,
   "metadata": {},
   "outputs": [],
   "source": [
    "from operator import itemgetter\n",
    "\n",
    "def get_sendBeacon_info(data):\n",
    "    website_sendBeacon_info = {}\n",
    "\n",
    "    for website in data:\n",
    "        nr_sendBeacon_calls = len(data[website][\"data\"][\"apis\"][\"callStats\"])\n",
    "        size = 0\n",
    "        for savedCall in data[website][\"data\"][\"apis\"][\"savedCalls\"]:\n",
    "            for argument in savedCall[\"arguments\"]:\n",
    "                size += len(argument)\n",
    "        website_sendBeacon_info.update({website: (nr_sendBeacon_calls, size)})\n",
    "    return website_sendBeacon_info\n",
    "\n",
    "optIn_sendBeacon_info = get_sendBeacon_info(data_optIn)\n",
    "optOut_sendBeacon_info = get_sendBeacon_info(data_optOut)"
   ]
  },
  {
   "cell_type": "markdown",
   "metadata": {},
   "source": [
    "Compare optIn results with optOut results."
   ]
  },
  {
   "cell_type": "code",
   "execution_count": 13,
   "metadata": {},
   "outputs": [],
   "source": [
    "def merge_dictionaries(dict_optIn, dict_optOut):\n",
    "    merged_dict = {}\n",
    "    for elem in dict_optOut:\n",
    "        merged_dict.update({elem: {\"optOut\": dict_optOut[elem], \"optIn\": (0,0)}})\n",
    "    for elem in dict_optIn:\n",
    "        if elem in merged_dict:\n",
    "            merged_dict[elem].update({\"optIn\": dict_optIn[elem]})\n",
    "        else:\n",
    "            merged_dict.update({elem: {\"optOut\": (0,0), \"optIn\": dict_optIn[elem]}})\n",
    "    return merged_dict\n",
    "    \n",
    "merged_dict = merge_dictionaries(optIn_sendBeacon_info, optOut_sendBeacon_info)"
   ]
  },
  {
   "cell_type": "markdown",
   "metadata": {},
   "source": [
    "List number of websites that send more sendBeacon data when consent mode is optOut."
   ]
  },
  {
   "cell_type": "code",
   "execution_count": 14,
   "metadata": {},
   "outputs": [
    {
     "name": "stdout",
     "output_type": "stream",
     "text": [
      "1888 websites send an average of 4665 bytes more data with consent mode optIn\n",
      "1884 websites send an average of 5308 bytes more data with consent mode optOut\n",
      "2864 websites have no difference\n"
     ]
    }
   ],
   "source": [
    "optIn_bigger = 0\n",
    "optIn_size = 0\n",
    "optOut_bigger = 0\n",
    "optOut_size = 0\n",
    "same_size = 0\n",
    "\n",
    "for website in merged_dict:\n",
    "    optIn = merged_dict[website][\"optIn\"]\n",
    "    optOut = merged_dict[website][\"optOut\"]\n",
    "\n",
    "    if optIn[1] > optOut[1]:\n",
    "        optIn_bigger += 1\n",
    "        optIn_size += optIn[1] - optOut[1]\n",
    "    elif optIn[1] < optOut[1]:\n",
    "        optOut_bigger += 1\n",
    "        optOut_size += optOut[1] - optIn[1]\n",
    "    else:\n",
    "        same_size += 1\n",
    "\n",
    "print(str(optIn_bigger) + \" websites send an average of \" + str(round(optIn_size/optIn_bigger)) + \" bytes more data with consent mode optIn\")\n",
    "print(str(optOut_bigger) + \" websites send an average of \" + str(round(optOut_size/optOut_bigger)) + \" bytes more data with consent mode optOut\")\n",
    "print(str(same_size) + \" websites have no difference\")\n"
   ]
  },
  {
   "cell_type": "markdown",
   "metadata": {},
   "source": [
    "Compare cookie behaviour based on consent mode, starting with loading all the cookie usage into a dictionary."
   ]
  },
  {
   "cell_type": "code",
   "execution_count": 15,
   "metadata": {},
   "outputs": [
    {
     "name": "stdout",
     "output_type": "stream",
     "text": [
      "2088 websites set an average of 7 cookies more with consent mode optIn\n",
      "1967 websites set an average of 7 cookies more with consent mode optOut\n",
      "2864 websites have no difference\n"
     ]
    }
   ],
   "source": [
    "optIn_bigger = 0\n",
    "optIn_size = 0\n",
    "optOut_bigger = 0\n",
    "optOut_size = 0\n",
    "same_nr_cookies = 0\n",
    "\n",
    "for website in merged_dict:\n",
    "    nr_cookies_optIn = len(data_optIn[website][\"data\"][\"cookies\"])\n",
    "    nr_cookies_optOut = len(data_optOut[website][\"data\"][\"cookies\"])\n",
    "        \n",
    "    if nr_cookies_optIn > nr_cookies_optOut:\n",
    "        optIn_bigger += 1\n",
    "        optIn_size += nr_cookies_optIn - nr_cookies_optOut\n",
    "    elif nr_cookies_optIn < nr_cookies_optOut:\n",
    "        optOut_bigger += 1\n",
    "        optOut_size += nr_cookies_optOut - nr_cookies_optIn\n",
    "    else:\n",
    "        same_nr_cookies += 1\n",
    "\n",
    "print(str(optIn_bigger) + \" websites set an average of \" + str(round(optIn_size/optIn_bigger)) + \" cookies more with consent mode optIn\")\n",
    "print(str(optOut_bigger) + \" websites set an average of \" + str(round(optOut_size/optOut_bigger)) + \" cookies more with consent mode optOut\")\n",
    "print(str(same_size) + \" websites have no difference\")"
   ]
  }
 ],
 "metadata": {
  "kernelspec": {
   "display_name": "Python 3",
   "language": "python",
   "name": "python3"
  },
  "language_info": {
   "codemirror_mode": {
    "name": "ipython",
    "version": 3
   },
   "file_extension": ".py",
   "mimetype": "text/x-python",
   "name": "python",
   "nbconvert_exporter": "python",
   "pygments_lexer": "ipython3",
   "version": "3.10.12"
  }
 },
 "nbformat": 4,
 "nbformat_minor": 2
}
